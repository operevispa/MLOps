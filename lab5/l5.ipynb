{
  "nbformat": 4,
  "nbformat_minor": 0,
  "metadata": {
    "colab": {
      "provenance": []
    },
    "kernelspec": {
      "name": "python3",
      "display_name": "Python 3"
    },
    "language_info": {
      "name": "python"
    }
  },
  "cells": [
    {
      "cell_type": "code",
      "source": [
        "%%writefile l5_code.py\n",
        "\n",
        "import matplotlib.pyplot as plt\n",
        "import numpy as np\n",
        "import pandas as pd\n",
        "from sklearn.linear_model import LinearRegression\n",
        "import joblib\n",
        "from sklearn.metrics import r2_score, mean_squared_error\n",
        "import pytest\n",
        "import os\n",
        "\n",
        "\n",
        "# функция генерации датасетов\n",
        "def generate_loan_dataset(sample_size=50, anomaly_ratio=0):\n",
        "    # инициализируем random\n",
        "    rng = np.random.default_rng()\n",
        "    # генерируем значения фич age, incom, cred_rating, employment\n",
        "    age = rng.integers(low=18, high=65, size=sample_size)\n",
        "    income = np.round(80000 * rng.lognormal(mean=0, sigma=0.3, size=sample_size), 2)\n",
        "    credit_rating = rng.integers(low=100, high=999, size=sample_size)\n",
        "    employment = np.round(40 * rng.random(size=sample_size), 1)\n",
        "    # генерируем шум\n",
        "    #noises = rng.random(size=sample_size) * 1000000\n",
        "    noises = 0\n",
        "\n",
        "    # рассчитываем целевую переменную - кредитный лимит\n",
        "    credit_limit = np.round(\n",
        "        (age * 1000 + income * 7 + credit_rating * 100 + employment * 2000 + noises), 0\n",
        "    )\n",
        "    # print(target)\n",
        "\n",
        "    # считаем количесвто аномалий, которые будем генерировать\n",
        "    anomaly_numbers = int(anomaly_ratio * sample_size)\n",
        "    # генерируем отдельно высокие и низкие аномалии (поровну)\n",
        "    a_max = rng.random(int(anomaly_numbers/2))*max(credit_limit) + max(credit_limit)\n",
        "    a_min = rng.random(int(anomaly_numbers/2))*min(credit_limit)\n",
        "    anomaly = np.concatenate((a_max, a_min))\n",
        "\n",
        "\n",
        "    # перемешиваем аномалии внутри (высокие с низкими)\n",
        "    rng.shuffle(anomaly)\n",
        "    # создаем массив индексов, в значения которых будем подставлять аномалии\n",
        "    ind = rng.integers(low=0, high=sample_size, size=anomaly_numbers)\n",
        "    credit_limit[ind] = np.round((anomaly), 0)\n",
        "\n",
        "    # делаем датафрейм из массивов фич и таргетов\n",
        "    df = pd.DataFrame(\n",
        "        {\n",
        "            \"age\": age,\n",
        "            \"income\": income,\n",
        "            \"credit_rating\": credit_rating,\n",
        "            \"employment\": employment,\n",
        "            \"credit_limit\": credit_limit,\n",
        "        }\n",
        "    )\n",
        "    return df\n",
        "\n",
        "\n",
        "\n",
        "# тренировка модели\n",
        "def train_model(ds):\n",
        "    # отправляем в X - данные с фичами, а в y - таргеты\n",
        "    X = ds[ds.columns[:-1]]\n",
        "    y = ds[ds.columns[-1:]]\n",
        "\n",
        "    # создаем модель линейной регрессии и  тренируем ее\n",
        "    model = LinearRegression()\n",
        "    model.fit(X, y)\n",
        "\n",
        "    return model\n",
        "\n",
        "\n",
        "# тестирование модели\n",
        "def test_model(model, ds):\n",
        "    # отправляем в X - данные с фичами, а в y - таргеты\n",
        "    X = ds[ds.columns[:-1]]\n",
        "    y = ds[ds.columns[-1:]]\n",
        "\n",
        "    # предсказываем данные\n",
        "    y_pred = model.predict(X)\n",
        "\n",
        "    # расчет метрик\n",
        "    mse = mean_squared_error(y, y_pred)\n",
        "    r2 = r2_score(y, y_pred)\n",
        "\n",
        "    return {\"MSE\": mse, \"R2\": r2}\n",
        "\n",
        "\n",
        "def test_datasets():\n",
        "    num_ds = 4\n",
        "    model = joblib.load(model.joblib)\n",
        "    ds = {}\n",
        "    for i in range(num_ds):\n",
        "        ds[i] = pd.read_csv(f'data/ds-{i}.csv')\n",
        "        X = ds[i][ds[i].columns[:-1]]\n",
        "        y = ds[i][ds[i].columns[-1:]]\n",
        "\n",
        "        # предсказываем данные\n",
        "        y_pred = model.predict(X)\n",
        "\n",
        "        # расчет метрики r2\n",
        "        r2 = r2_score(y, y_pred)\n",
        "        assert r2 > 0.95, f\"Failed model test! R2 = {r2}. Dataset is: ds-{i}.csv\"\n",
        "\n",
        "\n",
        "\n",
        "if __name__ == \"__main__\":\n",
        "    os.makedirs(\"data\", exist_ok=True)\n",
        "    # всего будет 4 датасета (3 норм, 1 с шумами)\n",
        "    num_dataset = 4\n",
        "    ds = {}\n",
        "    # генерируем датасеты без аномалий\n",
        "    for i in range(1, num_dataset):\n",
        "        ds[i] = generate_loan_dataset(sample_size=1000, anomaly_ratio=0.00)\n",
        "        # сохраняем датасет\n",
        "        ds[i].to_csv(f\"data/ds-{i}.csv\", index=False)\n",
        "\n",
        "    # обучаем модель на одном из качественных датасетов и сохраняем ее\n",
        "    model = train_model(ds[1])\n",
        "    joblib.dump(model, \"data/model.joblib\")\n",
        "\n",
        "    # генерируем зашумленный датасет и сохраняем его в файл\n",
        "    ds[num_dataset] = generate_loan_dataset(sample_size=1000, anomaly_ratio=0.02)\n",
        "    ds[num_dataset].to_csv(f\"data/ds-{num_dataset}.csv\", index=False)\n",
        "\n",
        "    # смотрим показатели модели на 3 качественных и одном зашумленном датасете\n",
        "    for i in range(1, num_dataset+1):\n",
        "        print(test_model(model, ds[i]))"
      ],
      "metadata": {
        "colab": {
          "base_uri": "https://localhost:8080/"
        },
        "id": "axn50g-IyXmu",
        "outputId": "f2a604d0-1eca-4bb1-ad90-a74b80636e19"
      },
      "execution_count": null,
      "outputs": [
        {
          "output_type": "stream",
          "name": "stdout",
          "text": [
            "Overwriting l5_code.py\n"
          ]
        }
      ]
    },
    {
      "cell_type": "code",
      "source": [
        "# запускаем отработку кода основной части программы, в которой формируем датасеты и обучаем модель\n",
        "!python3 l5_code.py"
      ],
      "metadata": {
        "colab": {
          "base_uri": "https://localhost:8080/"
        },
        "id": "hI25rgKSXSvC",
        "outputId": "8896ff18-b691-4bf6-9147-17199563152e"
      },
      "execution_count": null,
      "outputs": [
        {
          "output_type": "stream",
          "name": "stdout",
          "text": [
            "{'MSE': 0.08394827330393388, 'R2': 0.9999999999974426}\n",
            "{'MSE': 0.08265008703597465, 'R2': 0.9999999999976241}\n",
            "{'MSE': 0.08743119211535444, 'R2': 0.9999999999972704}\n",
            "{'MSE': 41337784793.54076, 'R2': 0.462101935865476}\n"
          ]
        }
      ]
    },
    {
      "cell_type": "code",
      "source": [
        "%%writefile l5_test.py\n",
        "\n",
        "import pandas as pd\n",
        "import joblib\n",
        "from sklearn.metrics import r2_score\n",
        "\n",
        "\n",
        "def test_datasets():\n",
        "    num_ds = 4\n",
        "\n",
        "    model = joblib.load(\"data/model.joblib\")\n",
        "    ds = {}\n",
        "    for i in range(1, num_ds+1):\n",
        "        ds[i] = pd.read_csv(f'data/ds-{i}.csv')\n",
        "        X = ds[i][ds[i].columns[:-1]]\n",
        "        y = ds[i][ds[i].columns[-1:]]\n",
        "\n",
        "        # предсказываем данные\n",
        "        y_pred = model.predict(X)\n",
        "\n",
        "        # расчет метрики r2\n",
        "        r2 = r2_score(y, y_pred)\n",
        "        assert r2 > 0.95, f\"The ds-{i}.csv dataset is bad!! R2 = {r2}.\""
      ],
      "metadata": {
        "colab": {
          "base_uri": "https://localhost:8080/"
        },
        "id": "CQilxWftWM6Q",
        "outputId": "0ab97dd2-3178-4107-c1e4-497b87c445e0"
      },
      "execution_count": null,
      "outputs": [
        {
          "output_type": "stream",
          "name": "stdout",
          "text": [
            "Overwriting l5_test.py\n"
          ]
        }
      ]
    },
    {
      "cell_type": "code",
      "source": [
        "!pytest l5_test.py"
      ],
      "metadata": {
        "colab": {
          "base_uri": "https://localhost:8080/"
        },
        "id": "-6ROBVc1WWkm",
        "outputId": "69dc6385-1ccd-4a35-f1a6-cab98314e353"
      },
      "execution_count": null,
      "outputs": [
        {
          "output_type": "stream",
          "name": "stdout",
          "text": [
            "\u001b[1m======================================= test session starts ========================================\u001b[0m\n",
            "platform linux -- Python 3.10.12, pytest-7.4.4, pluggy-1.5.0\n",
            "rootdir: /content\n",
            "plugins: anyio-3.7.1\n",
            "collected 1 item                                                                                   \u001b[0m\n",
            "\n",
            "l5_test.py \u001b[31mF\u001b[0m\u001b[31m                                                                                 [100%]\u001b[0m\n",
            "\n",
            "============================================= FAILURES =============================================\n",
            "\u001b[31m\u001b[1m__________________________________________ test_datasets ___________________________________________\u001b[0m\n",
            "\n",
            "    \u001b[94mdef\u001b[39;49;00m \u001b[92mtest_datasets\u001b[39;49;00m():\u001b[90m\u001b[39;49;00m\n",
            "        num_ds = \u001b[94m4\u001b[39;49;00m\u001b[90m\u001b[39;49;00m\n",
            "    \u001b[90m\u001b[39;49;00m\n",
            "        model = joblib.load(\u001b[33m\"\u001b[39;49;00m\u001b[33mdata/model.joblib\u001b[39;49;00m\u001b[33m\"\u001b[39;49;00m)\u001b[90m\u001b[39;49;00m\n",
            "        ds = {}\u001b[90m\u001b[39;49;00m\n",
            "        \u001b[94mfor\u001b[39;49;00m i \u001b[95min\u001b[39;49;00m \u001b[96mrange\u001b[39;49;00m(\u001b[94m1\u001b[39;49;00m, num_ds+\u001b[94m1\u001b[39;49;00m):\u001b[90m\u001b[39;49;00m\n",
            "            ds[i] = pd.read_csv(\u001b[33mf\u001b[39;49;00m\u001b[33m'\u001b[39;49;00m\u001b[33mdata/ds-\u001b[39;49;00m\u001b[33m{\u001b[39;49;00mi\u001b[33m}\u001b[39;49;00m\u001b[33m.csv\u001b[39;49;00m\u001b[33m'\u001b[39;49;00m)\u001b[90m\u001b[39;49;00m\n",
            "            X = ds[i][ds[i].columns[:-\u001b[94m1\u001b[39;49;00m]]\u001b[90m\u001b[39;49;00m\n",
            "            y = ds[i][ds[i].columns[-\u001b[94m1\u001b[39;49;00m:]]\u001b[90m\u001b[39;49;00m\n",
            "    \u001b[90m\u001b[39;49;00m\n",
            "            \u001b[90m# предсказываем данные\u001b[39;49;00m\u001b[90m\u001b[39;49;00m\n",
            "            y_pred = model.predict(X)\u001b[90m\u001b[39;49;00m\n",
            "    \u001b[90m\u001b[39;49;00m\n",
            "            \u001b[90m# расчет метрики r2\u001b[39;49;00m\u001b[90m\u001b[39;49;00m\n",
            "            r2 = r2_score(y, y_pred)\u001b[90m\u001b[39;49;00m\n",
            ">           \u001b[94massert\u001b[39;49;00m r2 > \u001b[94m0.95\u001b[39;49;00m, \u001b[33mf\u001b[39;49;00m\u001b[33m\"\u001b[39;49;00m\u001b[33mThe ds-\u001b[39;49;00m\u001b[33m{\u001b[39;49;00mi\u001b[33m}\u001b[39;49;00m\u001b[33m.csv dataset is bad!! R2 = \u001b[39;49;00m\u001b[33m{\u001b[39;49;00mr2\u001b[33m}\u001b[39;49;00m\u001b[33m.\u001b[39;49;00m\u001b[33m\"\u001b[39;49;00m\u001b[90m\u001b[39;49;00m\n",
            "\u001b[1m\u001b[31mE           AssertionError: The ds-4.csv dataset is bad!! R2 = 0.462101935865476.\u001b[0m\n",
            "\u001b[1m\u001b[31mE           assert 0.462101935865476 > 0.95\u001b[0m\n",
            "\n",
            "\u001b[1m\u001b[31ml5_test.py\u001b[0m:22: AssertionError\n",
            "\u001b[36m\u001b[1m===================================== short test summary info ======================================\u001b[0m\n",
            "\u001b[31mFAILED\u001b[0m l5_test.py::\u001b[1mtest_datasets\u001b[0m - AssertionError: The ds-4.csv dataset is bad!! R2 = 0.462101935865476.\n",
            "\u001b[31m======================================== \u001b[31m\u001b[1m1 failed\u001b[0m\u001b[31m in 2.33s\u001b[0m\u001b[31m =========================================\u001b[0m\n"
          ]
        }
      ]
    },
    {
      "cell_type": "code",
      "source": [
        "# пример качественного датасета\n",
        "ds = pd.read_csv('data/ds-1.csv')\n",
        "plt.scatter(ds['income'], ds['credit_limit'])\n",
        "plt.show()"
      ],
      "metadata": {
        "colab": {
          "base_uri": "https://localhost:8080/",
          "height": 445
        },
        "id": "yqh9WoTm-u-b",
        "outputId": "91ac59b3-3e93-49df-c418-559f0e519218"
      },
      "execution_count": null,
      "outputs": [
        {
          "output_type": "display_data",
          "data": {
            "text/plain": [
              "<Figure size 640x480 with 1 Axes>"
            ],
            "image/png": "[encoded data removed]"
          },
          "metadata": {}
        }
      ]
    },
    {
      "cell_type": "code",
      "source": [
        "# пример датасета с сильными выбросами\n",
        "ds = pd.read_csv('data/ds-4.csv')\n",
        "plt.scatter(ds['income'], ds['credit_limit'])\n",
        "plt.show()"
      ],
      "metadata": {
        "colab": {
          "base_uri": "https://localhost:8080/",
          "height": 445
        },
        "id": "JwXb4mEl-5ju",
        "outputId": "34ce507b-2a69-4f90-b065-6d340776c599"
      },
      "execution_count": null,
      "outputs": [
        {
          "output_type": "display_data",
          "data": {
            "text/plain": [
              "<Figure size 640x480 with 1 Axes>"
            ],
            "image/png": "[encoded data removed]"
          },
          "metadata": {}
        }
      ]
    }
  ]
}